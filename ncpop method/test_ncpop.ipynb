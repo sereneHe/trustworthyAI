{
 "cells": [
  {
   "cell_type": "code",
   "execution_count": 1,
   "metadata": {},
   "outputs": [],
   "source": [
    "import sys\n",
    "sys.path.append('../')\n",
    "# print (sys.path)\n",
    "\n",
    "import numpy as np\n",
    "\n",
    "# from gcastle.castle.algorithms import *\n",
    "from ncpop import *\n",
    "from anm import *\n",
    "from gcastle.castle.common import GraphDAG, consts\n",
    "from gcastle.castle.metrics import MetricsDAG\n",
    "from gcastle.castle.datasets import IIDSimulation, DAG\n",
    "from data_generation import *"
   ]
  },
  {
   "attachments": {},
   "cell_type": "markdown",
   "metadata": {},
   "source": [
    "## generate dataset or load data"
   ]
  },
  {
   "cell_type": "code",
   "execution_count": 2,
   "metadata": {},
   "outputs": [
    {
     "name": "stderr",
     "output_type": "stream",
     "text": [
      "2023-05-06 17:02:24,542 - /Users/momo/Desktop/CoDiet/code/gCastle-ongoing/ncpop method/../gcastle/castle/datasets/simulator.py[line:270] - INFO: Finished synthetic dataset\n"
     ]
    }
   ],
   "source": [
    "########################################\n",
    "######  method 1 - load data  ##########\n",
    "########################################\n",
    "\n",
    "# data = np.load('../gcastle/tests/dataset/linear_gauss_6nodes_15edges.npz', allow_pickle=True)\n",
    "# x = data['x']\n",
    "# true_dag = data['y']\n",
    "# X = x[:30]\n",
    "\n",
    "# rank = np.linalg.matrix_rank(true_dag)\n",
    "# error_params = []\n",
    "\n",
    "########################################\n",
    "######  method 2 - generate lds  #######\n",
    "########################################\n",
    "\n",
    "# data = data_generation(g,f_dash,proc_noise_std,obs_noise_std,T)\n",
    "\n",
    "########################################\n",
    "######  method 3 - generate data  ######\n",
    "########################################\n",
    "\n",
    "data = weighted_random_dag = DAG.erdos_renyi(n_nodes=4, n_edges=9,\n",
    "                                          weight_range=(0.5, 2.0), seed=1)\n",
    "dataset = IIDSimulation(W=weighted_random_dag, n=20, method='nonlinear',sem_type='gp-add')\n",
    "true_dag, X = dataset.B, dataset.X"
   ]
  },
  {
   "cell_type": "code",
   "execution_count": 3,
   "metadata": {},
   "outputs": [
    {
     "data": {
      "text/plain": [
       "array([[0, 0, 0, 0],\n",
       "       [1, 0, 1, 0],\n",
       "       [1, 0, 0, 0],\n",
       "       [1, 1, 1, 0]])"
      ]
     },
     "execution_count": 3,
     "metadata": {},
     "output_type": "execute_result"
    }
   ],
   "source": [
    "true_dag"
   ]
  },
  {
   "attachments": {},
   "cell_type": "markdown",
   "metadata": {},
   "source": [
    "## model learning and testing"
   ]
  },
  {
   "cell_type": "code",
   "execution_count": 11,
   "metadata": {},
   "outputs": [
    {
     "name": "stdout",
     "output_type": "stream",
     "text": [
      "The problem has 43 noncommuting Hermitian variables\n",
      "Calculating block structure...\n",
      "Estimated number of SDP variables: 989\n",
      "Generating moment matrix...\n",
      "Reduced number of SDP variables: 989989 (done: 100.10%, ETA 00:00:-0.0)\n",
      "\u001b[KProcessing 40/40 constraints...\n",
      "Problem\n",
      "  Name                   :                 \n",
      "  Objective sense        : minimize        \n",
      "  Type                   : CONIC (conic optimization problem)\n",
      "  Constraints            : 989             \n",
      "  Affine conic cons.     : 0               \n",
      "  Disjunctive cons.      : 0               \n",
      "  Cones                  : 0               \n",
      "  Scalar variables       : 0               \n",
      "  Matrix variables       : 1               \n",
      "  Integer variables      : 0               \n",
      "\n",
      "Optimizer started.\n",
      "Presolve started.\n",
      "Linear dependency checker started.\n",
      "Linear dependency checker terminated.\n",
      "Eliminator started.\n",
      "Freed constraints in eliminator : 0\n",
      "Eliminator terminated.\n",
      "Eliminator - tries                  : 1                 time                   : 0.00            \n",
      "Lin. dep.  - tries                  : 1                 time                   : 0.00            \n",
      "Lin. dep.  - number                 : 0               \n",
      "Presolve terminated. Time: 0.00    \n",
      "GP based matrix reordering started.\n",
      "GP based matrix reordering terminated.\n",
      "Problem\n",
      "  Name                   :                 \n",
      "  Objective sense        : minimize        \n",
      "  Type                   : CONIC (conic optimization problem)\n",
      "  Constraints            : 989             \n",
      "  Affine conic cons.     : 0               \n",
      "  Disjunctive cons.      : 0               \n",
      "  Cones                  : 0               \n",
      "  Scalar variables       : 0               \n",
      "  Matrix variables       : 1               \n",
      "  Integer variables      : 0               \n",
      "\n",
      "Optimizer  - threads                : 8               \n",
      "Optimizer  - solved problem         : the primal      \n",
      "Optimizer  - Constraints            : 989\n",
      "Optimizer  - Cones                  : 0\n",
      "Optimizer  - Scalar variables       : 0                 conic                  : 0               \n",
      "Optimizer  - Semi-definite variables: 1                 scalarized             : 3570            \n",
      "Factor     - setup time             : 0.01              dense det. time        : 0.00            \n",
      "Factor     - ML order time          : 0.00              GP order time          : 0.00            \n",
      "Factor     - nonzeros before factor : 4.90e+05          after factor           : 4.90e+05        \n",
      "Factor     - dense dim.             : 0                 flops                  : 3.27e+08        \n",
      "ITE PFEAS    DFEAS    GFEAS    PRSTATUS   POBJ              DOBJ              MU       TIME  \n",
      "0   4.5e+00  1.0e+00  2.0e+00  0.00e+00   1.000000000e+00   0.000000000e+00   1.0e+00  0.02  \n"
     ]
    },
    {
     "name": "stderr",
     "output_type": "stream",
     "text": [
      "Warning: The objective function has a non-zero 24.03243757513085 constant term. It is not included in the SDP objective.\n"
     ]
    },
    {
     "name": "stdout",
     "output_type": "stream",
     "text": [
      "1   1.2e+00  2.6e-01  3.6e-01  1.32e-02   7.229315834e+00   6.931637853e+00   2.6e-01  0.05  \n",
      "2   1.7e-01  3.8e-02  1.3e-02  4.62e-01   1.649658996e+01   1.640422615e+01   3.8e-02  0.08  \n",
      "3   1.0e-03  2.2e-04  2.9e-06  9.12e-01   1.820459874e+01   1.820389978e+01   2.2e-04  0.09  \n",
      "4   2.7e-06  6.1e-07  4.7e-10  1.00e+00   1.821743484e+01   1.821743295e+01   6.1e-07  0.11  \n",
      "5   3.1e-08  7.0e-09  5.7e-13  1.00e+00   1.821747271e+01   1.821747269e+01   7.0e-09  0.13  \n",
      "Optimizer terminated. Time: 0.14    \n",
      "\n",
      "5.814964860780464 5.8149648824023 optimal\n",
      "ok.\n",
      "The problem has 43 noncommuting Hermitian variables\n",
      "Calculating block structure...\n",
      "Estimated number of SDP variables: 989\n",
      "Generating moment matrix...\n",
      "Reduced number of SDP variables: 989989 (done: 100.10%, ETA 00:00:-0.0)\n",
      "\u001b[KProcessing 40/40 constraints...\n",
      "Problem\n",
      "  Name                   :                 \n",
      "  Objective sense        : minimize        \n",
      "  Type                   : CONIC (conic optimization problem)\n",
      "  Constraints            : 989             \n",
      "  Affine conic cons.     : 0               \n",
      "  Disjunctive cons.      : 0               \n",
      "  Cones                  : 0               \n",
      "  Scalar variables       : 0               \n",
      "  Matrix variables       : 1               \n",
      "  Integer variables      : 0               \n",
      "\n",
      "Optimizer started.\n",
      "Presolve started.\n",
      "Linear dependency checker started.\n",
      "Linear dependency checker terminated.\n",
      "Eliminator started.\n",
      "Freed constraints in eliminator : 0\n",
      "Eliminator terminated.\n",
      "Eliminator - tries                  : 1                 time                   : 0.00            \n",
      "Lin. dep.  - tries                  : 1                 time                   : 0.00            \n",
      "Lin. dep.  - number                 : 0               \n",
      "Presolve terminated. Time: 0.00    \n",
      "GP based matrix reordering started.\n",
      "GP based matrix reordering terminated.\n",
      "Problem\n",
      "  Name                   :                 \n",
      "  Objective sense        : minimize        \n",
      "  Type                   : CONIC (conic optimization problem)\n",
      "  Constraints            : 989             \n",
      "  Affine conic cons.     : 0               \n",
      "  Disjunctive cons.      : 0               \n",
      "  Cones                  : 0               \n",
      "  Scalar variables       : 0               \n",
      "  Matrix variables       : 1               \n",
      "  Integer variables      : 0               \n",
      "\n",
      "Optimizer  - threads                : 8               \n",
      "Optimizer  - solved problem         : the primal      \n",
      "Optimizer  - Constraints            : 989\n",
      "Optimizer  - Cones                  : 0\n",
      "Optimizer  - Scalar variables       : 0                 conic                  : 0               \n",
      "Optimizer  - Semi-definite variables: 1                 scalarized             : 3570            \n",
      "Factor     - setup time             : 0.01              dense det. time        : 0.00            \n",
      "Factor     - ML order time          : 0.00              GP order time          : 0.00            \n",
      "Factor     - nonzeros before factor : 4.90e+05          after factor           : 4.90e+05        \n",
      "Factor     - dense dim.             : 0                 flops                  : 3.27e+08        \n",
      "ITE PFEAS    DFEAS    GFEAS    PRSTATUS   POBJ              DOBJ              MU       TIME  \n",
      "0   8.0e+00  1.0e+00  2.0e+00  0.00e+00   1.000000000e+00   0.000000000e+00   1.0e+00  0.02  \n",
      "1   2.1e+00  2.7e-01  6.0e-01  -5.07e-01  1.061087437e+01   1.070801481e+01   2.7e-01  0.06  \n"
     ]
    },
    {
     "name": "stderr",
     "output_type": "stream",
     "text": [
      "Warning: The objective function has a non-zero 61.99583183685835 constant term. It is not included in the SDP objective.\n"
     ]
    },
    {
     "name": "stdout",
     "output_type": "stream",
     "text": [
      "2   3.4e-01  4.3e-02  4.8e-02  1.42e-01   3.938700304e+01   3.943556215e+01   4.3e-02  0.08  \n",
      "3   2.6e-01  3.2e-02  3.4e-02  2.57e-01   4.200864542e+01   4.207244743e+01   3.2e-02  0.09  \n",
      "4   3.0e-02  3.8e-03  1.5e-03  1.05e+00   5.153628496e+01   5.154886463e+01   3.8e-03  0.11  \n",
      "5   6.2e-05  7.8e-06  1.4e-07  9.86e-01   5.270711915e+01   5.270714565e+01   7.8e-06  0.13  \n",
      "6   3.2e-07  4.0e-08  5.0e-11  1.00e+00   5.270976581e+01   5.270976594e+01   4.0e-08  0.15  \n",
      "7   1.6e-10  9.6e-10  5.7e-16  1.00e+00   5.270978003e+01   5.270978003e+01   2.0e-11  0.16  \n",
      "Optimizer terminated. Time: 0.17    \n",
      "\n",
      "9.28605180809263 9.286051808025391 optimal\n",
      "ok.\n"
     ]
    },
    {
     "data": {
      "image/png": "[encoded data removed]",
      "text/plain": [
       "<Figure size 576x216 with 4 Axes>"
      ]
     },
     "metadata": {
      "needs_background": "light"
     },
     "output_type": "display_data"
    },
    {
     "name": "stdout",
     "output_type": "stream",
     "text": [
      "Done <function ncpop_polyn at 0x7f9a89241b80> \n",
      " ================================================================================\n"
     ]
    }
   ],
   "source": [
    "ncp = NCPLinear(alpha=0.05)\n",
    "ncp_causal_matrices = []\n",
    "Y_pred = []\n",
    "Noise =[]\n",
    "MM = []\n",
    "# for method in [ncpop_linear, ncpop_hidden, ncpop_polyn]:\n",
    "for method in [ncpop_polyn]:\n",
    "    ncp.learn(data=X,m_ncpop=method)\n",
    "    ncp_causal_matrices.append(ncp.causal_matrix)\n",
    "    Y_pred.append(np.array(ncp.pred))\n",
    "    Noise.append(np.array(ncp.est_noise))\n",
    "\n",
    "    GraphDAG(ncp.causal_matrix, true_dag)\n",
    "    mm = MetricsDAG(ncp.causal_matrix, true_dag)\n",
    "    MM.append(mm)\n",
    "    print(\"Done\", str(method),\"\\n\",\"=\"*80)"
   ]
  },
  {
   "cell_type": "code",
   "execution_count": 12,
   "metadata": {},
   "outputs": [
    {
     "data": {
      "text/plain": [
       "([1.4441493397969773,\n",
       "  0.2992289206003036,\n",
       "  0.16875602883238514,\n",
       "  0.7065684295380041,\n",
       "  0.8319642527984209,\n",
       "  -0.17202075232826913,\n",
       "  0.5825275297596438,\n",
       "  -1.9855355804237331,\n",
       "  -0.5555925938261842,\n",
       "  0.9169517425892154,\n",
       "  1.4994522751675627,\n",
       "  0.5869738748257497,\n",
       "  0.09457138538344083,\n",
       "  -0.31702968346425037,\n",
       "  -0.6907769551110986,\n",
       "  0.7978818697882402,\n",
       "  -0.49278672063504847,\n",
       "  1.0940767353890135,\n",
       "  0.42107380480001383,\n",
       "  0.22759524025112354],\n",
       " Tensor([[ 1.3390571 ],\n",
       "         [ 0.40154282],\n",
       "         [ 0.26129561],\n",
       "         [ 0.97213406],\n",
       "         [ 0.93871977],\n",
       "         [-0.29377237],\n",
       "         [ 0.86677664],\n",
       "         [-2.14519908],\n",
       "         [-0.9127091 ],\n",
       "         [ 1.3412777 ],\n",
       "         [ 2.25834324],\n",
       "         [ 0.88348527],\n",
       "         [ 0.12663409],\n",
       "         [-0.55135687],\n",
       "         [-1.12728407],\n",
       "         [ 1.16517783],\n",
       "         [-0.84975204],\n",
       "         [ 1.54319046],\n",
       "         [ 0.41690619],\n",
       "         [ 0.07509668]]))"
      ]
     },
     "execution_count": 12,
     "metadata": {},
     "output_type": "execute_result"
    }
   ],
   "source": [
    "ncp.pred[0],ncp.real[0]"
   ]
  },
  {
   "cell_type": "code",
   "execution_count": 4,
   "metadata": {},
   "outputs": [
    {
     "name": "stderr",
     "output_type": "stream",
     "text": [
      "/Users/momo/Desktop/CoDiet/code/gCastle-ongoing/ncpop method/../gcastle/castle/metrics/evaluation.py:226: RuntimeWarning: invalid value encountered in scalar divide\n",
      "  F1 = 2*(recall*precision)/(recall+precision)\n"
     ]
    },
    {
     "data": {
      "image/png": "[encoded data removed]",
      "text/plain": [
       "<Figure size 576x216 with 4 Axes>"
      ]
     },
     "metadata": {
      "needs_background": "light"
     },
     "output_type": "display_data"
    }
   ],
   "source": [
    "from sklearn.gaussian_process.kernels import Matern, RBF\n",
    "\n",
    "anm = ANMNonlinear(alpha=0.05)\n",
    "anm.learn(data=X)\n",
    "\n",
    "# kernel = Matern(nu=1.5)\n",
    "# kernel = 1.0 * RBF(1.0)\n",
    "# anm.learn(data=X, regressor=GPR(kernel=kernel))\n",
    "\n",
    "GraphDAG(anm.causal_matrix, true_dag, show=False, save_name='result')\n",
    "mm = MetricsDAG(anm.causal_matrix, true_dag)"
   ]
  },
  {
   "cell_type": "code",
   "execution_count": 9,
   "metadata": {},
   "outputs": [
    {
     "data": {
      "text/plain": [
       "{'fdr': 0.1429,\n",
       " 'tpr': 0.6,\n",
       " 'fpr': 0.2,\n",
       " 'shd': 4,\n",
       " 'nnz': 7,\n",
       " 'precision': 0.5455,\n",
       " 'recall': 0.6,\n",
       " 'F1': 0.5714,\n",
       " 'gscore': 0.1}"
      ]
     },
     "execution_count": 9,
     "metadata": {},
     "output_type": "execute_result"
    }
   ],
   "source": [
    "MM[0].metrics#, MM[1].metrics"
   ]
  },
  {
   "cell_type": "code",
   "execution_count": 7,
   "metadata": {},
   "outputs": [
    {
     "name": "stdout",
     "output_type": "stream",
     "text": [
      "[[0. 0. 0. 0. 1. 0.]\n",
      " [0. 0. 1. 0. 0. 1.]\n",
      " [0. 1. 0. 1. 1. 1.]\n",
      " [0. 0. 1. 0. 1. 0.]\n",
      " [1. 0. 1. 1. 0. 0.]\n",
      " [0. 1. 1. 0. 0. 0.]]\n"
     ]
    },
    {
     "data": {
      "image/png": "[encoded data removed]",
      "text/plain": [
       "<Figure size 576x216 with 4 Axes>"
      ]
     },
     "metadata": {
      "needs_background": "light"
     },
     "output_type": "display_data"
    }
   ],
   "source": [
    "print(ncp.causal_matrix)\n",
    "GraphDAG(ncp.causal_matrix, true_dag)\n",
    "mm = MetricsDAG(ncp.causal_matrix, true_dag)\n",
    "print(mm.metrics)"
   ]
  },
  {
   "attachments": {},
   "cell_type": "markdown",
   "metadata": {},
   "source": [
    "## Test Methods"
   ]
  },
  {
   "cell_type": "code",
   "execution_count": 7,
   "metadata": {},
   "outputs": [],
   "source": [
    "def y(x, noise_sigma=0.0):\n",
    "    x = np.asarray(x)\n",
    "    y = x*np.sin(x)+np.random.normal(0,noise_sigma, size=x.shape)\n",
    "    return y\n",
    "train_x = np.array([1,3,5,7,9]).reshape(-1,1)\n",
    "train_y = y(train_x, noise_sigma=1e-4)\n",
    "test_x = np.arange(0,10,0.1).reshape(-1,1)"
   ]
  },
  {
   "cell_type": "code",
   "execution_count": null,
   "metadata": {},
   "outputs": [],
   "source": [
    "sca_l = 1\n",
    "ga = 1/(2*sca_l**2)"
   ]
  },
  {
   "cell_type": "code",
   "execution_count": null,
   "metadata": {},
   "outputs": [],
   "source": [
    "from sklearn."
   ]
  },
  {
   "cell_type": "code",
   "execution_count": null,
   "metadata": {},
   "outputs": [],
   "source": [
    "K = rbf_kernel(train_x, gamma=ga)\n",
    "u = np.array([0 for i in train_y]).reshape(-1,1)"
   ]
  },
  {
   "cell_type": "code",
   "execution_count": 10,
   "metadata": {},
   "outputs": [],
   "source": [
    "u = np.array([0 for i in train_y]).reshape(-1,1)"
   ]
  },
  {
   "cell_type": "code",
   "execution_count": 13,
   "metadata": {},
   "outputs": [
    {
     "data": {
      "text/plain": [
       "array([1., 0.])"
      ]
     },
     "execution_count": 13,
     "metadata": {},
     "output_type": "execute_result"
    }
   ],
   "source": [
    "a = np.array([[1,1],[1,0]])\n",
    "np.sqrt(np.diag(a))"
   ]
  },
  {
   "cell_type": "code",
   "execution_count": 21,
   "metadata": {},
   "outputs": [],
   "source": [
    "from ncpol2sdpa import*\n",
    "import numpy as np\n",
    "\n",
    "a = generate_variables('y', 2, commutative=True)\n",
    "L = generate_variables(\"L\", n_vars=1,commutative=True)[0]"
   ]
  },
  {
   "cell_type": "code",
   "execution_count": 6,
   "metadata": {},
   "outputs": [],
   "source": [
    "c= np.array(a).reshape(-1,1)*np.array(a).reshape(-1,1).T"
   ]
  },
  {
   "cell_type": "code",
   "execution_count": 7,
   "metadata": {},
   "outputs": [],
   "source": [
    "b = np.array(a).reshape(-1,1) - np.array(a).reshape(-1,1).T"
   ]
  },
  {
   "cell_type": "code",
   "execution_count": 8,
   "metadata": {},
   "outputs": [],
   "source": [
    "d = [c[i,j]-b[i,j] for i in range(len(c)) for j in range(len(c))]"
   ]
  },
  {
   "cell_type": "code",
   "execution_count": 20,
   "metadata": {},
   "outputs": [
    {
     "data": {
      "text/plain": [
       "[L]"
      ]
     },
     "execution_count": 20,
     "metadata": {},
     "output_type": "execute_result"
    }
   ],
   "source": [
    "L"
   ]
  },
  {
   "cell_type": "code",
   "execution_count": 10,
   "metadata": {},
   "outputs": [
    {
     "data": {
      "text/plain": [
       "(array([[y0**2, y0*y1],\n",
       "        [y0*y1, y1**2]], dtype=object),\n",
       " array([[0, y0 - y1],\n",
       "        [-y0 + y1, 0]], dtype=object))"
      ]
     },
     "execution_count": 10,
     "metadata": {},
     "output_type": "execute_result"
    }
   ],
   "source": [
    "c,b"
   ]
  },
  {
   "cell_type": "code",
   "execution_count": 11,
   "metadata": {},
   "outputs": [],
   "source": [
    "from scipy.spatial.distance import pdist, squareform"
   ]
  },
  {
   "cell_type": "code",
   "execution_count": 12,
   "metadata": {},
   "outputs": [],
   "source": [
    "X = np.array([0,1,2,3,4]).reshape(-1,1)\n",
    "y = pdist(X, 'sqeuclidean')"
   ]
  },
  {
   "cell_type": "code",
   "execution_count": 13,
   "metadata": {},
   "outputs": [
    {
     "data": {
      "text/plain": [
       "array([ 1.,  4.,  9., 16.,  1.,  4.,  9.,  1.,  4.,  1.])"
      ]
     },
     "execution_count": 13,
     "metadata": {},
     "output_type": "execute_result"
    }
   ],
   "source": [
    "y"
   ]
  },
  {
   "cell_type": "code",
   "execution_count": 14,
   "metadata": {},
   "outputs": [],
   "source": [
    "D = squareform(pdist(X, 'sqeuclidean'))"
   ]
  },
  {
   "cell_type": "code",
   "execution_count": 23,
   "metadata": {},
   "outputs": [
    {
     "ename": "TypeError",
     "evalue": "loop of ufunc does not support argument 0 of type Zero which has no callable exp method",
     "output_type": "error",
     "traceback": [
      "\u001b[0;31m---------------------------------------------------------------------------\u001b[0m",
      "\u001b[0;31mAttributeError\u001b[0m                            Traceback (most recent call last)",
      "\u001b[0;31mAttributeError\u001b[0m: 'Zero' object has no attribute 'exp'",
      "\nThe above exception was the direct cause of the following exception:\n",
      "\u001b[0;31mTypeError\u001b[0m                                 Traceback (most recent call last)",
      "\u001b[0;32m/var/folders/5x/3g67fwns0mb68s__c_3fk4wr0000gn/T/ipykernel_62527/3028047499.py\u001b[0m in \u001b[0;36m<module>\u001b[0;34m\u001b[0m\n\u001b[0;32m----> 1\u001b[0;31m \u001b[0mK2\u001b[0m \u001b[0;34m=\u001b[0m \u001b[0mnp\u001b[0m\u001b[0;34m.\u001b[0m\u001b[0mexp\u001b[0m\u001b[0;34m(\u001b[0m\u001b[0;34m-\u001b[0m\u001b[0;36m0.5\u001b[0m\u001b[0;34m*\u001b[0m\u001b[0mD\u001b[0m\u001b[0;34m/\u001b[0m\u001b[0mL\u001b[0m\u001b[0;34m**\u001b[0m\u001b[0;36m2\u001b[0m\u001b[0;34m)\u001b[0m\u001b[0;34m\u001b[0m\u001b[0;34m\u001b[0m\u001b[0m\n\u001b[0m",
      "\u001b[0;31mTypeError\u001b[0m: loop of ufunc does not support argument 0 of type Zero which has no callable exp method"
     ]
    }
   ],
   "source": [
    "K2 = np.exp(-0.5*D/L**2)"
   ]
  },
  {
   "cell_type": "code",
   "execution_count": null,
   "metadata": {},
   "outputs": [],
   "source": []
  }
 ],
 "metadata": {
  "interpreter": {
   "hash": "7302b976169d4ac0e049d3964802bd5db24b2435d6a27e889c657eee77aa11c8"
  },
  "kernelspec": {
   "display_name": "Python 3.9.7 ('study')",
   "language": "python",
   "name": "python3"
  },
  "language_info": {
   "codemirror_mode": {
    "name": "ipython",
    "version": 3
   },
   "file_extension": ".py",
   "mimetype": "text/x-python",
   "name": "python",
   "nbconvert_exporter": "python",
   "pygments_lexer": "ipython3",
   "version": "3.9.7"
  },
  "orig_nbformat": 4
 },
 "nbformat": 4,
 "nbformat_minor": 2
}
